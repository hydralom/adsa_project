{
  "nbformat": 4,
  "nbformat_minor": 0,
  "metadata": {
    "colab": {
      "name": "part3.ipynb",
      "provenance": [],
      "collapsed_sections": []
    },
    "kernelspec": {
      "display_name": "Python 3",
      "name": "python3"
    }
  },
  "cells": [
    {
      "cell_type": "code",
      "metadata": {
        "id": "-5jya0KlRB8k"
      },
      "source": [
        "# set the source node\r\n",
        "start_node = 0"
      ],
      "execution_count": null,
      "outputs": []
    },
    {
      "cell_type": "code",
      "metadata": {
        "id": "GNEFjiCZXXUh"
      },
      "source": [
        "nodes = [\"Shields\",        #0 \n",
        "         \"Storage\",        #1\n",
        "         \"Navigation\",     #2\n",
        "         \"O2\",             #3\n",
        "         \"Weapons\",        #4\n",
        "         \"Cafeteria\",      #5\n",
        "         \"Admin\",          #6\n",
        "         \"Communication\",  #7\n",
        "         \"Lower E\",        #8\n",
        "         \"Electrical\",     #9\n",
        "         \"Med bay\",        #10\n",
        "         \"Upper  E\",       #11\n",
        "         \"Security\",       #12\n",
        "         \"Reactor\",        #13\n",
        "         \"Vent corridor\"]  #14"
      ],
      "execution_count": null,
      "outputs": []
    },
    {
      "cell_type": "code",
      "metadata": {
        "id": "NXODTuiIN_uL"
      },
      "source": [
        "# adjency matrix crew       0     1     2     3     4     5     6     7     8     9    10    11    12    13\n",
        "adjency_matrix_crew = [[    0,  7.5,  7.5,  6.1,  9.1, 9999, 9999,  4.3, 9999, 9999, 9999, 9999, 9999, 9999], #0\n",
        "                       [  7.5,    0, 9999, 9999, 9999,  9.3,  5.4,  4.4, 10.5,  4.7, 9999, 9999, 9999, 9999], #1\n",
        "                       [  7.5, 9999,    0,  7.4,  6.6, 9999, 9999, 9999, 9999, 9999, 9999, 9999, 9999, 9999], #2\n",
        "                       [  6.1, 9999,  7.4,    0,  4.1, 9999, 9999, 9999, 9999, 9999, 9999, 9999, 9999, 9999], #3\n",
        "                       [  9.1, 9999,  6.6,  4.1,    0,  6.7, 9999, 9999, 9999, 9999, 9999, 9999, 9999, 9999], #4\n",
        "                       [ 9999,  9.3, 9999, 9999,  6.7,    0,    7, 9999, 9999, 9999,  6.3, 11.4, 9999, 9999], #5\n",
        "                       [ 9999,  5.4, 9999, 9999, 9999,    7,    0, 9999, 9999, 9999, 9999, 9999, 9999, 9999], #6\n",
        "                       [  4.3,  4.4, 9999, 9999, 9999, 9999, 9999,    0, 9999, 9999, 9999, 9999, 9999, 9999], #7\n",
        "                       [ 9999, 10.5, 9999, 9999, 9999, 9999, 9999, 9999,    0,  6.4, 9999,  8.3,  5.2,  5.1], #8\n",
        "                       [ 9999,  4.7, 9999, 9999, 9999, 9999, 9999, 9999,  6.4,    0, 9999, 9999, 9999, 9999], #9\n",
        "                       [ 9999, 9999, 9999, 9999, 9999,  6.3, 9999, 9999, 9999, 9999,    0,  6.5, 9999, 9999], #10\n",
        "                       [ 9999, 9999, 9999, 9999, 9999, 11.4, 9999, 9999,  8.3, 9999,  6.5,    0,  4.7,    5], #11\n",
        "                       [ 9999, 9999, 9999, 9999, 9999, 9999, 9999, 9999,  5.2, 9999, 9999,  4.7,    0,  5.5], #12\n",
        "                       [ 9999, 9999, 9999, 9999, 9999, 9999, 9999, 9999,  5.1, 9999, 9999,    5,  5.5,    0]] #13\n"
      ],
      "execution_count": null,
      "outputs": []
    },
    {
      "cell_type": "code",
      "metadata": {
        "id": "M1Q_udi3VmHL"
      },
      "source": [
        "# adjency matrix impostor   0     1     2     3     4     5     6     7     8     9    10    11    12    13    14\n",
        "adjency_matrix_impo = [[    0,  7.5, 0.01,  6.1,  9.1, 9999, 9999,  4.3, 9999, 9999, 9999, 9999, 9999, 9999,  4.5], #0\n",
        "                       [  7.5,    0, 9999, 9999, 9999,  9.3,  5.4,  4.4, 10.5,  4.7, 9999, 9999, 9999, 9999, 9999], #1\n",
        "                       [ 0.01, 9999,    0,  7.4, 0.01, 9999, 9999, 9999, 9999, 9999, 9999, 9999, 9999, 9999,  5.3], #2\n",
        "                       [  6.1, 9999,  7.4,    0,  4.1, 9999, 9999, 9999, 9999, 9999, 9999, 9999, 9999, 9999,  2.6], #3\n",
        "                       [  9.1, 9999, 0.01,  4.1,    0,  6.7, 9999, 9999, 9999, 9999, 9999, 9999, 9999, 9999,  4.7], #4\n",
        "                       [ 9999,  9.3, 9999, 9999,  6.7,    0, 0.01, 9999, 9999, 9999,  6.3, 11.4, 9999, 9999, 0.01], #5\n",
        "                       [ 9999,  5.4, 9999, 9999, 9999, 0.01,    0, 9999, 9999, 9999, 9999, 9999, 9999, 9999, 0.01], #6\n",
        "                       [  4.3,  4.4, 9999, 9999, 9999, 9999, 9999,    0, 9999, 9999, 9999, 9999, 9999, 9999, 9999], #7\n",
        "                       [ 9999, 10.5, 9999, 9999, 9999, 9999, 9999, 9999,    0,  6.4, 9999,  8.3,  5.2, 0.01, 9999], #8\n",
        "                       [ 9999,  4.7, 9999, 9999, 9999, 9999, 9999, 9999,  6.4,    0, 0.01, 9999, 0.01, 9999, 9999], #9\n",
        "                       [ 9999, 9999, 9999, 9999, 9999,  6.3, 9999, 9999, 9999, 0.01,    0,  6.5, 0.01, 9999, 9999], #10\n",
        "                       [ 9999, 9999, 9999, 9999, 9999, 11.4, 9999, 9999,  8.3, 9999,  6.5,    0,  4.7, 0.01, 9999], #11\n",
        "                       [ 9999, 9999, 9999, 9999, 9999, 9999, 9999, 9999,  5.2, 0.01, 0.01,  4.7,    0,  5.5, 9999], #12\n",
        "                       [ 9999, 9999, 9999, 9999, 9999, 9999, 9999, 9999, 0.01, 9999, 9999, 0.01,  5.5,    0, 9999], #13\n",
        "                       [  4.5, 9999,  5.3,  2.6,  4.7, 0.01, 0.01, 9999, 9999, 9999, 9999, 9999, 9999, 9999,    0]] #14"
      ],
      "execution_count": null,
      "outputs": []
    },
    {
      "cell_type": "code",
      "metadata": {
        "id": "A2S2HIF1PRM7"
      },
      "source": [
        "def dijkstra(graph, start):\r\n",
        "    distances = [float(\"inf\") for _ in range(len(graph))]\r\n",
        "    visited = [False for _ in range(len(graph))]\r\n",
        "    distances[start] = 0\r\n",
        "\r\n",
        "    while True:\r\n",
        "        shortest_distance = float(\"inf\")\r\n",
        "        shortest_index = -1\r\n",
        "        for i in range(len(graph)):\r\n",
        "            if distances[i] < shortest_distance and not visited[i]:\r\n",
        "                shortest_distance = distances[i]\r\n",
        "                shortest_index = i\r\n",
        "\r\n",
        "        if shortest_index == -1:\r\n",
        "            return distances\r\n",
        "\r\n",
        "        for i in range(len(graph[shortest_index])):\r\n",
        "            if graph[shortest_index][i] != 0 and distances[i] > distances[shortest_index] + graph[shortest_index][i]:\r\n",
        "                if graph[shortest_index][i] != 0.01:\r\n",
        "                    distances[i] = distances[shortest_index] + graph[shortest_index][i]\r\n",
        "                else:\r\n",
        "                    distances[i] = distances[shortest_index]\r\n",
        "\r\n",
        "        visited[shortest_index] = True"
      ],
      "execution_count": null,
      "outputs": []
    },
    {
      "cell_type": "code",
      "metadata": {
        "id": "nXphSaBPP2Uq"
      },
      "source": [
        "def print_all(start, tab):\r\n",
        "    for i in range(len(tab)):\r\n",
        "        if i != start:\r\n",
        "            print(nodes[start] + \" to \" + nodes[i] + \" --> \" + str(round(tab[i], 2)))"
      ],
      "execution_count": null,
      "outputs": []
    },
    {
      "cell_type": "code",
      "metadata": {
        "colab": {
          "base_uri": "https://localhost:8080/"
        },
        "id": "-VN_1Jc1Peyj",
        "outputId": "112e49ca-7f9e-4045-963a-0828492f4bf2"
      },
      "source": [
        "print_all(start_node, dijkstra(adjency_matrix_crew, start_node))"
      ],
      "execution_count": null,
      "outputs": [
        {
          "output_type": "stream",
          "text": [
            "Shields to Storage --> 7.5\n",
            "Shields to Navigation --> 7.5\n",
            "Shields to O2 --> 6.1\n",
            "Shields to Weapons --> 9.1\n",
            "Shields to Cafeteria --> 15.8\n",
            "Shields to Admin --> 12.9\n",
            "Shields to Communication --> 4.3\n",
            "Shields to Lower E --> 18.0\n",
            "Shields to Electrical --> 12.2\n",
            "Shields to Med bay --> 22.1\n",
            "Shields to Upper  E --> 26.3\n",
            "Shields to Security --> 23.2\n",
            "Shields to Reactor --> 23.1\n"
          ],
          "name": "stdout"
        }
      ]
    },
    {
      "cell_type": "code",
      "metadata": {
        "colab": {
          "base_uri": "https://localhost:8080/"
        },
        "id": "5rUISNqDPest",
        "outputId": "7c089cb4-782b-4088-8991-f4268c316dcb"
      },
      "source": [
        "print_all(start_node, dijkstra(adjency_matrix_impo, start_node))"
      ],
      "execution_count": null,
      "outputs": [
        {
          "output_type": "stream",
          "text": [
            "Shields to Storage --> 7.5\n",
            "Shields to Navigation --> 0\n",
            "Shields to O2 --> 4.1\n",
            "Shields to Weapons --> 0\n",
            "Shields to Cafeteria --> 4.5\n",
            "Shields to Admin --> 4.5\n",
            "Shields to Communication --> 4.3\n",
            "Shields to Lower E --> 15.5\n",
            "Shields to Electrical --> 10.8\n",
            "Shields to Med bay --> 10.8\n",
            "Shields to Upper  E --> 15.5\n",
            "Shields to Security --> 10.8\n",
            "Shields to Reactor --> 15.5\n",
            "Shields to Vent corridor --> 4.5\n"
          ],
          "name": "stdout"
        }
      ]
    }
  ]
}